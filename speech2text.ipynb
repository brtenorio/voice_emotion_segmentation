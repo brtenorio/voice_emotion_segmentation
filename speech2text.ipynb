{
 "cells": [
  {
   "cell_type": "markdown",
   "metadata": {},
   "source": [
    "# Speech Recognition"
   ]
  },
  {
   "cell_type": "markdown",
   "metadata": {},
   "source": [
    "### Python program to translate speech to text and text to speech"
   ]
  },
  {
   "cell_type": "code",
   "execution_count": 1,
   "metadata": {},
   "outputs": [],
   "source": [
    "# pre-requisites\n",
    "# !pip install SpeechRecognition pyaudio py3-tts"
   ]
  },
  {
   "cell_type": "code",
   "execution_count": 1,
   "metadata": {},
   "outputs": [],
   "source": [
    "import speech_recognition as sr\n",
    "import pyttsx3\n",
    "import time as time"
   ]
  },
  {
   "cell_type": "code",
   "execution_count": 2,
   "metadata": {},
   "outputs": [],
   "source": [
    "def speak_text(text):\n",
    "    \"\"\"Converts text to speech using pyttsx3.\"\"\"\n",
    "    engine = pyttsx3.init()\n",
    "    engine.say(text)\n",
    "    engine.runAndWait()"
   ]
  },
  {
   "cell_type": "code",
   "execution_count": 3,
   "metadata": {},
   "outputs": [],
   "source": [
    "def recognize_speech():\n",
    "    \"\"\"Recognizes speech using the microphone and converts it to text.\"\"\"\n",
    "    recognizer = sr.Recognizer()\n",
    "    microphone = sr.Microphone()\n",
    "\n",
    "    with microphone as source:\n",
    "        # Adjust for ambient noise and record audio\n",
    "        print(\"Adjusting for ambient noise... Please wait...\")\n",
    "        recognizer.adjust_for_ambient_noise(source, duration=2)\n",
    "        print(\"Listening for your speech...\")\n",
    "        audio = recognizer.listen(source, timeout=5, phrase_time_limit=5)\n",
    "\n",
    "    try:\n",
    "        # Recognize speech using Google Web Speech API\n",
    "        print(\"Recognizing speech...\")\n",
    "        text = recognizer.recognize_google(audio)\n",
    "        print(f\"Recognized text: {text}\")\n",
    "        return text\n",
    "\n",
    "    except sr.RequestError:\n",
    "        # API was unreachable or unresponsive\n",
    "        print(\"Could not request results from the speech recognition service.\")\n",
    "        speak_text(\"Could not request results from the speech recognition service.\")\n",
    "\n",
    "    except sr.UnknownValueError:\n",
    "        # Speech was unintelligible\n",
    "        print(\"Could not understand the audio.\")\n",
    "        speak_text(\"Sorry, I did not understand that.\")\n",
    "    \n",
    "    return None"
   ]
  },
  {
   "cell_type": "code",
   "execution_count": 12,
   "metadata": {},
   "outputs": [
    {
     "name": "stdout",
     "output_type": "stream",
     "text": [
      "Starting Speech to Text with Voice Feedback...\n",
      "Adjusting for ambient noise... Please wait...\n",
      "Listening for your speech...\n",
      "Recognizing speech...\n",
      "Recognized text: listen the songs and speak\n",
      "You said: listen the songs and speak\n",
      "Adjusting for ambient noise... Please wait...\n",
      "Listening for your speech...\n",
      "Recognizing speech...\n",
      "Recognized text: good well done now\n",
      "You said: good well done now\n",
      "Adjusting for ambient noise... Please wait...\n",
      "Listening for your speech...\n",
      "Recognizing speech...\n",
      "Recognized text: now we're done again continue\n",
      "You said: now we're done again continue\n",
      "Adjusting for ambient noise... Please wait...\n",
      "Listening for your speech...\n",
      "Recognizing speech...\n",
      "Recognized text: okay continue interact\n",
      "You said: okay continue interact\n",
      "Adjusting for ambient noise... Please wait...\n",
      "Listening for your speech...\n",
      "Recognizing speech...\n",
      "Recognized text: stop\n",
      "Program stopped by voice command.\n"
     ]
    }
   ],
   "source": [
    "if __name__ == \"__main__\":\n",
    "    print(\"Starting Speech to Text with Voice Feedback...\")\n",
    "\n",
    "    now = time.time()\n",
    "    running = 0\n",
    "    while running < 60:\n",
    "        recognized_text = recognize_speech()\n",
    "        time.sleep(2)\n",
    "        if recognized_text:\n",
    "            # Check if the recognized text is a command to stop\n",
    "            if recognized_text in [\"stop\", \"exit\", \"quit\"]:\n",
    "                speak_text(\"Program is stopping. Goodbye!\")\n",
    "                print(\"Program stopped by voice command.\")\n",
    "                break\n",
    "            else:\n",
    "                print(f\"You said: {recognized_text}\")\n",
    "                speak_text(f\"You said: {recognized_text}\")\n",
    "        else:\n",
    "            print(\"No valid speech recognized, please try again.\")\n",
    "        \n",
    "        running = time.time() - now\n"
   ]
  },
  {
   "cell_type": "code",
   "execution_count": 13,
   "metadata": {},
   "outputs": [],
   "source": [
    "speak_text(\"Hello, I am a text to speech program. I can convert text to speech and speech to text. Please speak to me.\")"
   ]
  },
  {
   "cell_type": "code",
   "execution_count": null,
   "metadata": {},
   "outputs": [],
   "source": []
  }
 ],
 "metadata": {
  "kernelspec": {
   "display_name": ".venv",
   "language": "python",
   "name": "python3"
  },
  "language_info": {
   "codemirror_mode": {
    "name": "ipython",
    "version": 3
   },
   "file_extension": ".py",
   "mimetype": "text/x-python",
   "name": "python",
   "nbconvert_exporter": "python",
   "pygments_lexer": "ipython3",
   "version": "3.11.9"
  }
 },
 "nbformat": 4,
 "nbformat_minor": 2
}
